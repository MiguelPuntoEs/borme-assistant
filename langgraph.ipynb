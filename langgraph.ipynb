{
 "cells": [
  {
   "cell_type": "markdown",
   "metadata": {},
   "source": [
    "# LangGraph RAG minimal example\n",
    "\n",
    "This LangGraph example shows the capabilities of LLMs deciding on using custom-made tools for specific purposes. In this particular example, the LLM decides whether to call the retrieval function to process BORME information or not, and if so, generating an answer based on the retrieved information from the vector database.\n",
    "\n",
    "This code shall not be used for production and it is based on the LangGraph tutorial about RAG apps: [Build a Retrieval Augmented Generation (RAG) App: Part 2](https://python.langchain.com/docs/tutorials/qa_chat_history/)."
   ]
  },
  {
   "cell_type": "code",
   "execution_count": 53,
   "metadata": {},
   "outputs": [
    {
     "data": {
      "text/plain": [
       "True"
      ]
     },
     "execution_count": 53,
     "metadata": {},
     "output_type": "execute_result"
    }
   ],
   "source": [
    "from dotenv import load_dotenv\n",
    "from typing import Final, List, Tuple\n",
    "\n",
    "load_dotenv()"
   ]
  },
  {
   "cell_type": "code",
   "execution_count": 50,
   "metadata": {},
   "outputs": [],
   "source": [
    "from pymilvus import MilvusClient\n",
    "\n",
    "COLLECTION_NAME: Final[str] = 'borme'\n",
    "\n",
    "milvus_client: MilvusClient = MilvusClient(uri='milvus.db')"
   ]
  },
  {
   "cell_type": "code",
   "execution_count": 51,
   "metadata": {},
   "outputs": [],
   "source": [
    "from langchain_openai import AzureChatOpenAI, AzureOpenAIEmbeddings\n",
    "\n",
    "llm: AzureChatOpenAI = AzureChatOpenAI(model='gpt-4o')\n",
    "embeddings: AzureOpenAIEmbeddings = AzureOpenAIEmbeddings(\n",
    "    model='text-embedding-ada-002',\n",
    ")"
   ]
  },
  {
   "cell_type": "code",
   "execution_count": 56,
   "metadata": {},
   "outputs": [],
   "source": [
    "from langgraph.graph import MessagesState, StateGraph\n",
    "\n",
    "graph_builder = StateGraph(MessagesState)"
   ]
  },
  {
   "cell_type": "code",
   "execution_count": null,
   "metadata": {},
   "outputs": [],
   "source": [
    "from langchain_core.tools import tool\n",
    "\n",
    "\n",
    "@tool(response_format='content_and_artifact')\n",
    "def retrieve(query: str) -> Tuple[str, List[List[dict]]]:\n",
    "    \"\"\"Retrieve information related to a query regarding BORME actos inscritos\"\"\"\n",
    "    query_vector: List[float] = embeddings.embed_query(query)\n",
    "    search_res = milvus_client.search(\n",
    "        collection_name=COLLECTION_NAME,\n",
    "        data=[query_vector],\n",
    "        limit=3,\n",
    "        search_params={'metric_type': 'L2', 'params': {}},\n",
    "        output_fields=['text']\n",
    "    )\n",
    "\n",
    "    return '\\n'.join(res['entity']['text'] for res in search_res[0]), search_res"
   ]
  },
  {
   "cell_type": "code",
   "execution_count": 57,
   "metadata": {},
   "outputs": [],
   "source": [
    "from langchain_core.messages import SystemMessage\n",
    "from langgraph.prebuilt import ToolNode\n",
    "\n",
    "\n",
    "def query_or_respond(state: MessagesState):\n",
    "    \"\"\"Generate tool call for retrieval or respond.\"\"\"\n",
    "    llm_with_tools = llm.bind_tools([retrieve])\n",
    "    response = llm_with_tools.invoke(state[\"messages\"])\n",
    "    # MessagesState appends messages to state instead of overwriting\n",
    "    return {\"messages\": [response]}\n",
    "\n",
    "\n",
    "tools = ToolNode([retrieve])\n",
    "\n",
    "def generate(state: MessagesState):\n",
    "    \"\"\"Generate answer.\"\"\"\n",
    "    recent_tool_messages = []\n",
    "    for message in reversed(state[\"messages\"]):\n",
    "        if message.type == \"tool\":\n",
    "            recent_tool_messages.append(message)\n",
    "        else:\n",
    "            break\n",
    "    tool_messages = recent_tool_messages[::-1]\n",
    "\n",
    "    docs_content = \"\\n\\n\".join(doc.content for doc in tool_messages)\n",
    "    system_message_content = (\n",
    "        \"You are an assistant for question-answering tasks. \"\n",
    "        \"Use the following pieces of retrieved context to answer \"\n",
    "        \"the question. If you don't know the answer, say that you \"\n",
    "        \"don't know. Use three sentences maximum and keep the \"\n",
    "        \"answer concise.\"\n",
    "        \"\\n\\n\"\n",
    "        f\"{docs_content}\"\n",
    "    )\n",
    "    conversation_messages = [\n",
    "        message\n",
    "        for message in state[\"messages\"]\n",
    "        if message.type in (\"human\", \"system\")\n",
    "        or (message.type == \"ai\" and not message.tool_calls)\n",
    "    ]\n",
    "    prompt = [SystemMessage(system_message_content)] + conversation_messages\n",
    "\n",
    "    response = llm.invoke(prompt)\n",
    "    return {\"messages\": [response]}"
   ]
  },
  {
   "cell_type": "code",
   "execution_count": 58,
   "metadata": {},
   "outputs": [],
   "source": [
    "from langgraph.graph import END\n",
    "from langgraph.prebuilt import ToolNode, tools_condition\n",
    "\n",
    "graph_builder.add_node(query_or_respond)\n",
    "graph_builder.add_node(tools)\n",
    "graph_builder.add_node(generate)\n",
    "\n",
    "graph_builder.set_entry_point(\"query_or_respond\")\n",
    "graph_builder.add_conditional_edges(\n",
    "    \"query_or_respond\",\n",
    "    tools_condition,\n",
    "    {END: END, \"tools\": \"tools\"},\n",
    ")\n",
    "graph_builder.add_edge(\"tools\", \"generate\")\n",
    "graph_builder.add_edge(\"generate\", END)\n",
    "\n",
    "graph = graph_builder.compile()"
   ]
  },
  {
   "cell_type": "code",
   "execution_count": 59,
   "metadata": {},
   "outputs": [
    {
     "data": {
      "image/png": "[encoded data removed]",
      "text/plain": [
       "<IPython.core.display.Image object>"
      ]
     },
     "metadata": {},
     "output_type": "display_data"
    }
   ],
   "source": [
    "from IPython.display import Image, display\n",
    "\n",
    "display(Image(graph.get_graph().draw_mermaid_png()))"
   ]
  },
  {
   "cell_type": "code",
   "execution_count": 62,
   "metadata": {},
   "outputs": [
    {
     "name": "stdout",
     "output_type": "stream",
     "text": [
      "================================\u001b[1m Human Message \u001b[0m=================================\n",
      "\n",
      "Qué ha ocurrido de acuerdo a los actos inscritos en el BORME con Bazar Chrivan Sociedad Limitada?\n",
      "==================================\u001b[1m Ai Message \u001b[0m==================================\n",
      "Tool Calls:\n",
      "  retrieve (call_yBgfg6LCXn1MlZG1eB7Jr0ky)\n",
      " Call ID: call_yBgfg6LCXn1MlZG1eB7Jr0ky\n",
      "  Args:\n",
      "    query: Bazar Chrivan Sociedad Limitada BORME\n",
      "=================================\u001b[1m Tool Message \u001b[0m=================================\n",
      "Name: retrieve\n",
      "\n",
      "517874 - BAZAR CHRIVAN SOCIEDAD LIMITADA.\n",
      "Ceses/Dimisiones.  Adm. Unico: CALERO GOMEZ FRANCISCA. Liquidador: CALERO GOMEZ FRANCISCA.  Nombramientos.\n",
      "Liquidador: CALERO GOMEZ FRANCISCA.  Disolución.  Voluntaria.  Extinción.  Datos registrales. S 8 , H AB 26790, I/A 3\n",
      "(25.11.24).\n",
      "517875 - DESARROLLOS SOLARES HISPANIA SOCIEDAD LIMITADA.\n",
      "Ceses/Dimisiones.  Adm. Solid.: VILLAR DOMENECH DAVID;BAUTISTA CABAÑERO ALBERTO.  Nombramientos.  Adm. Unico:\n",
      "edificios, locales comerciales, viviendas. La construcción tanto pública como privada, su explotación en régimen de arrendamiento así\n",
      "como otras actividades complementarias o relacionadas con dicho objeto, pudiendo realizar cuantos a. Domicilio: C/ VIRGEN DE\n",
      "CORTES, 5 02320 (BALAZOTE). Capital: 19.000,00 Euros.  Nombramientos.  Adm. Solid.: SIMON GARCIA MARIANO;SIMON\n",
      "GARCIA ANTONIO.  Datos registrales. S 8 , H AB 31051, I/A 1 (25.11.24).\n",
      "517874 - BAZAR CHRIVAN SOCIEDAD LIMITADA.\n",
      "BOLETÍN OFICIAL DEL REGISTRO MERCANTIL\n",
      "Núm. 232 Lunes 2 de diciembre de 2024 Pág. 54791\n",
      "cve: BORME-A-2024-232-46\n",
      "Verificable en https://www.boe.es\n",
      "519994 - L39 OBRAS SOCIEDAD LIMITADA.\n",
      "Constitución.  Comienzo de operaciones: 8.11.24. Objeto social: a) administración, compraventa, y explotación de fincas rústicas y\n",
      "urbanas, cualquiera que sea su destino, aprovechamiento o calificación urbanística, a través de los profesionales cualificados para ello,\n",
      "==================================\u001b[1m Ai Message \u001b[0m==================================\n",
      "\n",
      "Bazar Chrivan Sociedad Limitada ha cesado a Francisca Calero Gómez como Administradora Única y la ha nombrado como Liquidadora. Además, ha disuelto voluntariamente la empresa y está en proceso de extinción. Estos datos están registrados en la Sección 8, Hoja AB 26790, Inscripción/Año 3 (25.11.24).\n"
     ]
    }
   ],
   "source": [
    "input_message = \"Qué ha ocurrido de acuerdo a los actos inscritos en el BORME con Bazar Chrivan Sociedad Limitada?\"\n",
    "\n",
    "for step in graph.stream(\n",
    "    {\"messages\": [{\"role\": \"user\", \"content\": input_message}]},\n",
    "    stream_mode=\"values\",\n",
    "):\n",
    "    step[\"messages\"][-1].pretty_print()"
   ]
  }
 ],
 "metadata": {
  "kernelspec": {
   "display_name": ".venv",
   "language": "python",
   "name": "python3"
  },
  "language_info": {
   "codemirror_mode": {
    "name": "ipython",
    "version": 3
   },
   "file_extension": ".py",
   "mimetype": "text/x-python",
   "name": "python",
   "nbconvert_exporter": "python",
   "pygments_lexer": "ipython3",
   "version": "3.13.0"
  }
 },
 "nbformat": 4,
 "nbformat_minor": 2
}
